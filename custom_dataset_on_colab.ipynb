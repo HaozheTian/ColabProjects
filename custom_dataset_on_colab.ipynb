{
  "nbformat": 4,
  "nbformat_minor": 0,
  "metadata": {
    "colab": {
      "provenance": [],
      "authorship_tag": "ABX9TyOzL6jq/mmlUbehCGks/T/x",
      "include_colab_link": true
    },
    "kernelspec": {
      "name": "python3",
      "display_name": "Python 3"
    },
    "language_info": {
      "name": "python"
    }
  },
  "cells": [
    {
      "cell_type": "markdown",
      "metadata": {
        "id": "view-in-github",
        "colab_type": "text"
      },
      "source": [
        "<a href=\"https://colab.research.google.com/github/HaozheTian/ColabProjects/blob/main/custom_dataset_on_colab.ipynb\" target=\"_parent\"><img src=\"https://colab.research.google.com/assets/colab-badge.svg\" alt=\"Open In Colab\"/></a>"
      ]
    },
    {
      "cell_type": "markdown",
      "source": [
        "# Colab Tutorial from Scratch \n",
        "This tutorial demonstrates deep learning using Google CoLaborotory (Colab). Colab is an online python editor that allows editing, execution, and even better, free GPU access.\n",
        "\n",
        "Different from existing tutorials, this tutorial emphasizes actual problems an engineer/researcher might encounter, such as:\n",
        "* How to configure a runtime\n",
        "* How to use custom datasets\n",
        "\n",
        "Whereas standard deep learning workflow, which has been covered by many tutorials, will not be covered."
      ],
      "metadata": {
        "id": "iIjHHux6A-Ix"
      }
    },
    {
      "cell_type": "markdown",
      "source": [
        "## A. Runtime Configuration\n",
        "While Colab has many built-in packages such as `numpy`, `scipy`, `pandas`, and `pytorch`, you might come across packages that are not pre-installed. To use these packages, installation must be performed at the beginning of each runtime.\n",
        "\n",
        "When running virtual environments on our own PC, `pip install` is usually used. Things work similarly in Colab, except a `!` needs to be added to indicate console command. Let us first see how `pip` works by looking at its help document. (I am sure you are familiar with command line operations, but let's try this anyway to show that thins works similar on Colab.)"
      ],
      "metadata": {
        "id": "Sz0_RbF4GULp"
      }
    },
    {
      "cell_type": "code",
      "source": [
        "!pip -h | head -n 10"
      ],
      "metadata": {
        "colab": {
          "base_uri": "https://localhost:8080/"
        },
        "id": "Wzt5EAYGA9K6",
        "outputId": "0a6e4f61-1afb-4290-904b-3f9117f3d302"
      },
      "execution_count": 3,
      "outputs": [
        {
          "output_type": "stream",
          "name": "stdout",
          "text": [
            "\n",
            "Usage:   \n",
            "  pip3 <command> [options]\n",
            "\n",
            "Commands:\n",
            "  install                     Install packages.\n",
            "  download                    Download packages.\n",
            "  uninstall                   Uninstall packages.\n",
            "  freeze                      Output installed packages in requirements format.\n",
            "  list                        List installed packages.\n"
          ]
        }
      ]
    },
    {
      "cell_type": "markdown",
      "source": [
        "The `-h` pulls out the help doc. The second part `| head -n 10` limits command line output to the first 5 lines (for asthetics).\n",
        "\n",
        "Now let us install a package. We will use `tqdm`, a progress bar tool, as an example."
      ],
      "metadata": {
        "id": "ni4N6CdXMIbs"
      }
    },
    {
      "cell_type": "code",
      "source": [
        "!pip -q install tqdm\n",
        "\n",
        "import tqdm\n",
        "print(f'Version {tqdm.__version__} installed')"
      ],
      "metadata": {
        "colab": {
          "base_uri": "https://localhost:8080/"
        },
        "id": "k7S9CevLMouQ",
        "outputId": "729eecd5-894f-474f-b785-c19afdec886a"
      },
      "execution_count": 4,
      "outputs": [
        {
          "output_type": "stream",
          "name": "stdout",
          "text": [
            "Version 4.65.0 installed\n"
          ]
        }
      ]
    },
    {
      "cell_type": "markdown",
      "source": [
        "Here `-q` is used to run installation in \"quiet\" mode, therefore reducing command line outputs. It is only kept here for asthetic purpose."
      ],
      "metadata": {
        "id": "4zwKcy9NPpfJ"
      }
    },
    {
      "cell_type": "markdown",
      "source": [
        "## B. Access Data in Colab\n",
        "For demonstration, a .zip file containing 100 of the 202599 images from the original [CelebA](https://mmlab.ie.cuhk.edu.hk/projects/CelebA.html#:~:text=CelebFaces%20Attributes%20Dataset%20(CelebA)%20is,quantities%2C%20and%20rich%20annotations%2C%20including) dataset will be used. To download the demo dataset, go [**here**](https://github.com/HaozheTian/ColabProjects/raw/main/img_align_celeba.zip).\n",
        "\n",
        "To use the dataset, the first thing is to upload it to your [Google Drive](https://drive.google.com/drive/my-drive). After doing so, let's see how to access files stored in Google Drive using Colab. Run the following code.\n",
        "\n",
        "**Caution:** Upload the .zip file instead of unzip images, as uploading unziped folder to Google Drive takes forever."
      ],
      "metadata": {
        "id": "YXkMZ06JP3a-"
      }
    },
    {
      "cell_type": "code",
      "source": [
        "from google.colab import drive\n",
        "drive.mount('/content/drive')\n",
        "!ls /content/drive/MyDrive/"
      ],
      "metadata": {
        "colab": {
          "base_uri": "https://localhost:8080/"
        },
        "id": "xAa5nfW-ywlG",
        "outputId": "00a54f33-e0e5-48a9-e3bd-4f2ee1c83bf0"
      },
      "execution_count": 5,
      "outputs": [
        {
          "output_type": "stream",
          "name": "stdout",
          "text": [
            "Mounted at /content/drive\n",
            "ECG-ML\timg_align_celeba.zip  VAE\n"
          ]
        }
      ]
    },
    {
      "cell_type": "markdown",
      "source": [
        "Now we unzip the uploaded test data. Similar to before, `-q` i.e. quiet mode is used. Note the exact directory where the target .zip file is stored various."
      ],
      "metadata": {
        "id": "oDAEeSBalGg4"
      }
    },
    {
      "cell_type": "code",
      "source": [
        "!unzip -q /content/drive/MyDrive/img_align_celeba.zip"
      ],
      "metadata": {
        "id": "Il_80Xa0Ac-9"
      },
      "execution_count": 6,
      "outputs": []
    },
    {
      "cell_type": "markdown",
      "source": [
        "By using the default working directory, the unziped data file should appear in \"/content/\". Here is what it looks like:\n",
        "\n",
        "![colab_demo_fig.png](data:image/png;base64,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)\n",
        "\n",
        "Now the data file can be accessed in Colab as if it is stored on your own device. Note that if the runtime is disconnected, you have to start over from the unzipping step."
      ],
      "metadata": {
        "id": "uIaNNQB3nPco"
      }
    },
    {
      "cell_type": "markdown",
      "source": [
        "## C. Use Custom Data\n",
        "Before progressing to custom dataset, let us first review how we used datasets contained in PyTorch. Take the MNIST dataset as an example:"
      ],
      "metadata": {
        "id": "-Xi811SjozTP"
      }
    },
    {
      "cell_type": "code",
      "source": [
        "import torchvision\n",
        "import torch\n",
        "from torchvision import datasets, transforms\n",
        "\n",
        "# Define transforms\n",
        "# Here only a simple tensor conversion and batch normalization is performed\n",
        "transform = transforms.Compose([transforms.ToTensor(),\n",
        "                               transforms.Normalize(mean=[0.5,],std=[0.5,], )])\n",
        "\n",
        "# here root specifies where to store the data\n",
        "data_train = datasets.MNIST(root = \"./data/\",\n",
        "                            transform=transform,\n",
        "                            train = True,\n",
        "                            download = True)\n",
        "\n",
        "# Train data loader\n",
        "data_loader_train = torch.utils.data.DataLoader(dataset=data_train,\n",
        "                                                batch_size = 4,\n",
        "                                                shuffle = True)\n",
        "for images, label in data_loader_train:\n",
        "  print(images.shape)\n",
        "  break"
      ],
      "metadata": {
        "colab": {
          "base_uri": "https://localhost:8080/"
        },
        "id": "JfTMNOMMpNOQ",
        "outputId": "668c8d4b-6165-4477-a796-5b4a292c07cf"
      },
      "execution_count": 7,
      "outputs": [
        {
          "output_type": "stream",
          "name": "stdout",
          "text": [
            "torch.Size([4, 1, 28, 28])\n"
          ]
        }
      ]
    },
    {
      "cell_type": "markdown",
      "source": [
        "The data loader is an iterator that returns a batch of 4 grayscale images (1 channel), each with size (28$\\times$28).\n",
        "\n",
        "Now let us move on to the celebrity face dataset, which we just uploaded. We first load the index file:"
      ],
      "metadata": {
        "id": "CORE44PsrigF"
      }
    },
    {
      "cell_type": "code",
      "source": [
        "import pandas as pd\n",
        "\n",
        "df_celeb = pd.read_csv('/content/img_align_celeba/list_attr_celeba.txt', delim_whitespace = True, skiprows=1)\n",
        "print(f'Total number of images: {df_celeb.shape[0]}')\n",
        "df_celeb.head()"
      ],
      "metadata": {
        "colab": {
          "base_uri": "https://localhost:8080/",
          "height": 317
        },
        "id": "XBp6NplHrhtr",
        "outputId": "b2f22b90-58fe-43f3-ffb9-276df5bfe617"
      },
      "execution_count": 9,
      "outputs": [
        {
          "output_type": "stream",
          "name": "stdout",
          "text": [
            "Total number of images: 100\n"
          ]
        },
        {
          "output_type": "execute_result",
          "data": {
            "text/plain": [
              "     image_id  5_o_Clock_Shadow  Arched_Eyebrows  Attractive  Bags_Under_Eyes  \\\n",
              "0  000001.jpg                -1                1           1               -1   \n",
              "1  000002.jpg                -1               -1          -1                1   \n",
              "2  000003.jpg                -1               -1          -1               -1   \n",
              "3  000004.jpg                -1               -1           1               -1   \n",
              "4  000005.jpg                -1                1           1               -1   \n",
              "\n",
              "   Bald  Bangs  Big_Lips  Big_Nose  Black_Hair  ...  Sideburns  Smiling  \\\n",
              "0    -1     -1        -1        -1          -1  ...         -1        1   \n",
              "1    -1     -1        -1         1          -1  ...         -1        1   \n",
              "2    -1     -1         1        -1          -1  ...         -1       -1   \n",
              "3    -1     -1        -1        -1          -1  ...         -1       -1   \n",
              "4    -1     -1         1        -1          -1  ...         -1       -1   \n",
              "\n",
              "   Straight_Hair  Wavy_Hair  Wearing_Earrings  Wearing_Hat  Wearing_Lipstick  \\\n",
              "0              1         -1                 1           -1                 1   \n",
              "1             -1         -1                -1           -1                -1   \n",
              "2             -1          1                -1           -1                -1   \n",
              "3              1         -1                 1           -1                 1   \n",
              "4             -1         -1                -1           -1                 1   \n",
              "\n",
              "   Wearing_Necklace  Wearing_Necktie  Young  \n",
              "0                -1               -1      1  \n",
              "1                -1               -1      1  \n",
              "2                -1               -1      1  \n",
              "3                 1               -1      1  \n",
              "4                -1               -1      1  \n",
              "\n",
              "[5 rows x 41 columns]"
            ],
            "text/html": [
              "\n",
              "  <div id=\"df-72a39b84-bf6c-458b-be7c-fe6319a7090b\">\n",
              "    <div class=\"colab-df-container\">\n",
              "      <div>\n",
              "<style scoped>\n",
              "    .dataframe tbody tr th:only-of-type {\n",
              "        vertical-align: middle;\n",
              "    }\n",
              "\n",
              "    .dataframe tbody tr th {\n",
              "        vertical-align: top;\n",
              "    }\n",
              "\n",
              "    .dataframe thead th {\n",
              "        text-align: right;\n",
              "    }\n",
              "</style>\n",
              "<table border=\"1\" class=\"dataframe\">\n",
              "  <thead>\n",
              "    <tr style=\"text-align: right;\">\n",
              "      <th></th>\n",
              "      <th>image_id</th>\n",
              "      <th>5_o_Clock_Shadow</th>\n",
              "      <th>Arched_Eyebrows</th>\n",
              "      <th>Attractive</th>\n",
              "      <th>Bags_Under_Eyes</th>\n",
              "      <th>Bald</th>\n",
              "      <th>Bangs</th>\n",
              "      <th>Big_Lips</th>\n",
              "      <th>Big_Nose</th>\n",
              "      <th>Black_Hair</th>\n",
              "      <th>...</th>\n",
              "      <th>Sideburns</th>\n",
              "      <th>Smiling</th>\n",
              "      <th>Straight_Hair</th>\n",
              "      <th>Wavy_Hair</th>\n",
              "      <th>Wearing_Earrings</th>\n",
              "      <th>Wearing_Hat</th>\n",
              "      <th>Wearing_Lipstick</th>\n",
              "      <th>Wearing_Necklace</th>\n",
              "      <th>Wearing_Necktie</th>\n",
              "      <th>Young</th>\n",
              "    </tr>\n",
              "  </thead>\n",
              "  <tbody>\n",
              "    <tr>\n",
              "      <th>0</th>\n",
              "      <td>000001.jpg</td>\n",
              "      <td>-1</td>\n",
              "      <td>1</td>\n",
              "      <td>1</td>\n",
              "      <td>-1</td>\n",
              "      <td>-1</td>\n",
              "      <td>-1</td>\n",
              "      <td>-1</td>\n",
              "      <td>-1</td>\n",
              "      <td>-1</td>\n",
              "      <td>...</td>\n",
              "      <td>-1</td>\n",
              "      <td>1</td>\n",
              "      <td>1</td>\n",
              "      <td>-1</td>\n",
              "      <td>1</td>\n",
              "      <td>-1</td>\n",
              "      <td>1</td>\n",
              "      <td>-1</td>\n",
              "      <td>-1</td>\n",
              "      <td>1</td>\n",
              "    </tr>\n",
              "    <tr>\n",
              "      <th>1</th>\n",
              "      <td>000002.jpg</td>\n",
              "      <td>-1</td>\n",
              "      <td>-1</td>\n",
              "      <td>-1</td>\n",
              "      <td>1</td>\n",
              "      <td>-1</td>\n",
              "      <td>-1</td>\n",
              "      <td>-1</td>\n",
              "      <td>1</td>\n",
              "      <td>-1</td>\n",
              "      <td>...</td>\n",
              "      <td>-1</td>\n",
              "      <td>1</td>\n",
              "      <td>-1</td>\n",
              "      <td>-1</td>\n",
              "      <td>-1</td>\n",
              "      <td>-1</td>\n",
              "      <td>-1</td>\n",
              "      <td>-1</td>\n",
              "      <td>-1</td>\n",
              "      <td>1</td>\n",
              "    </tr>\n",
              "    <tr>\n",
              "      <th>2</th>\n",
              "      <td>000003.jpg</td>\n",
              "      <td>-1</td>\n",
              "      <td>-1</td>\n",
              "      <td>-1</td>\n",
              "      <td>-1</td>\n",
              "      <td>-1</td>\n",
              "      <td>-1</td>\n",
              "      <td>1</td>\n",
              "      <td>-1</td>\n",
              "      <td>-1</td>\n",
              "      <td>...</td>\n",
              "      <td>-1</td>\n",
              "      <td>-1</td>\n",
              "      <td>-1</td>\n",
              "      <td>1</td>\n",
              "      <td>-1</td>\n",
              "      <td>-1</td>\n",
              "      <td>-1</td>\n",
              "      <td>-1</td>\n",
              "      <td>-1</td>\n",
              "      <td>1</td>\n",
              "    </tr>\n",
              "    <tr>\n",
              "      <th>3</th>\n",
              "      <td>000004.jpg</td>\n",
              "      <td>-1</td>\n",
              "      <td>-1</td>\n",
              "      <td>1</td>\n",
              "      <td>-1</td>\n",
              "      <td>-1</td>\n",
              "      <td>-1</td>\n",
              "      <td>-1</td>\n",
              "      <td>-1</td>\n",
              "      <td>-1</td>\n",
              "      <td>...</td>\n",
              "      <td>-1</td>\n",
              "      <td>-1</td>\n",
              "      <td>1</td>\n",
              "      <td>-1</td>\n",
              "      <td>1</td>\n",
              "      <td>-1</td>\n",
              "      <td>1</td>\n",
              "      <td>1</td>\n",
              "      <td>-1</td>\n",
              "      <td>1</td>\n",
              "    </tr>\n",
              "    <tr>\n",
              "      <th>4</th>\n",
              "      <td>000005.jpg</td>\n",
              "      <td>-1</td>\n",
              "      <td>1</td>\n",
              "      <td>1</td>\n",
              "      <td>-1</td>\n",
              "      <td>-1</td>\n",
              "      <td>-1</td>\n",
              "      <td>1</td>\n",
              "      <td>-1</td>\n",
              "      <td>-1</td>\n",
              "      <td>...</td>\n",
              "      <td>-1</td>\n",
              "      <td>-1</td>\n",
              "      <td>-1</td>\n",
              "      <td>-1</td>\n",
              "      <td>-1</td>\n",
              "      <td>-1</td>\n",
              "      <td>1</td>\n",
              "      <td>-1</td>\n",
              "      <td>-1</td>\n",
              "      <td>1</td>\n",
              "    </tr>\n",
              "  </tbody>\n",
              "</table>\n",
              "<p>5 rows × 41 columns</p>\n",
              "</div>\n",
              "      <button class=\"colab-df-convert\" onclick=\"convertToInteractive('df-72a39b84-bf6c-458b-be7c-fe6319a7090b')\"\n",
              "              title=\"Convert this dataframe to an interactive table.\"\n",
              "              style=\"display:none;\">\n",
              "        \n",
              "  <svg xmlns=\"http://www.w3.org/2000/svg\" height=\"24px\"viewBox=\"0 0 24 24\"\n",
              "       width=\"24px\">\n",
              "    <path d=\"M0 0h24v24H0V0z\" fill=\"none\"/>\n",
              "    <path d=\"M18.56 5.44l.94 2.06.94-2.06 2.06-.94-2.06-.94-.94-2.06-.94 2.06-2.06.94zm-11 1L8.5 8.5l.94-2.06 2.06-.94-2.06-.94L8.5 2.5l-.94 2.06-2.06.94zm10 10l.94 2.06.94-2.06 2.06-.94-2.06-.94-.94-2.06-.94 2.06-2.06.94z\"/><path d=\"M17.41 7.96l-1.37-1.37c-.4-.4-.92-.59-1.43-.59-.52 0-1.04.2-1.43.59L10.3 9.45l-7.72 7.72c-.78.78-.78 2.05 0 2.83L4 21.41c.39.39.9.59 1.41.59.51 0 1.02-.2 1.41-.59l7.78-7.78 2.81-2.81c.8-.78.8-2.07 0-2.86zM5.41 20L4 18.59l7.72-7.72 1.47 1.35L5.41 20z\"/>\n",
              "  </svg>\n",
              "      </button>\n",
              "      \n",
              "  <style>\n",
              "    .colab-df-container {\n",
              "      display:flex;\n",
              "      flex-wrap:wrap;\n",
              "      gap: 12px;\n",
              "    }\n",
              "\n",
              "    .colab-df-convert {\n",
              "      background-color: #E8F0FE;\n",
              "      border: none;\n",
              "      border-radius: 50%;\n",
              "      cursor: pointer;\n",
              "      display: none;\n",
              "      fill: #1967D2;\n",
              "      height: 32px;\n",
              "      padding: 0 0 0 0;\n",
              "      width: 32px;\n",
              "    }\n",
              "\n",
              "    .colab-df-convert:hover {\n",
              "      background-color: #E2EBFA;\n",
              "      box-shadow: 0px 1px 2px rgba(60, 64, 67, 0.3), 0px 1px 3px 1px rgba(60, 64, 67, 0.15);\n",
              "      fill: #174EA6;\n",
              "    }\n",
              "\n",
              "    [theme=dark] .colab-df-convert {\n",
              "      background-color: #3B4455;\n",
              "      fill: #D2E3FC;\n",
              "    }\n",
              "\n",
              "    [theme=dark] .colab-df-convert:hover {\n",
              "      background-color: #434B5C;\n",
              "      box-shadow: 0px 1px 3px 1px rgba(0, 0, 0, 0.15);\n",
              "      filter: drop-shadow(0px 1px 2px rgba(0, 0, 0, 0.3));\n",
              "      fill: #FFFFFF;\n",
              "    }\n",
              "  </style>\n",
              "\n",
              "      <script>\n",
              "        const buttonEl =\n",
              "          document.querySelector('#df-72a39b84-bf6c-458b-be7c-fe6319a7090b button.colab-df-convert');\n",
              "        buttonEl.style.display =\n",
              "          google.colab.kernel.accessAllowed ? 'block' : 'none';\n",
              "\n",
              "        async function convertToInteractive(key) {\n",
              "          const element = document.querySelector('#df-72a39b84-bf6c-458b-be7c-fe6319a7090b');\n",
              "          const dataTable =\n",
              "            await google.colab.kernel.invokeFunction('convertToInteractive',\n",
              "                                                     [key], {});\n",
              "          if (!dataTable) return;\n",
              "\n",
              "          const docLinkHtml = 'Like what you see? Visit the ' +\n",
              "            '<a target=\"_blank\" href=https://colab.research.google.com/notebooks/data_table.ipynb>data table notebook</a>'\n",
              "            + ' to learn more about interactive tables.';\n",
              "          element.innerHTML = '';\n",
              "          dataTable['output_type'] = 'display_data';\n",
              "          await google.colab.output.renderOutput(dataTable, element);\n",
              "          const docLink = document.createElement('div');\n",
              "          docLink.innerHTML = docLinkHtml;\n",
              "          element.appendChild(docLink);\n",
              "        }\n",
              "      </script>\n",
              "    </div>\n",
              "  </div>\n",
              "  "
            ]
          },
          "metadata": {},
          "execution_count": 9
        }
      ]
    },
    {
      "cell_type": "markdown",
      "source": [
        "It can be seen that there are 100 images, each with various attributes."
      ],
      "metadata": {
        "id": "TsO1xmlGtxET"
      }
    },
    {
      "cell_type": "markdown",
      "source": [
        "To use these data the same way as a pytorch built-in dataset, we need to code a custom dataset class. By inhereting from `torch.utils.data.Dataset`, we only need to rewrite two functions: `self.__getitem__` and `self.__len__`."
      ],
      "metadata": {
        "id": "Y7shE6iRu0j9"
      }
    },
    {
      "cell_type": "code",
      "source": [
        "from numpy import float32\n",
        "import torch\n",
        "from torch.utils.data import Dataset\n",
        "from PIL import Image\n",
        "\n",
        "class CelebFaceDataset(Dataset):\n",
        "    def __init__(self, df_index, transforms):\n",
        "        self.df_index = df_index\n",
        "        self.transforms = transforms\n",
        "\n",
        "    def __getitem__(self, idx):\n",
        "        img_id = self.df_index.loc[idx].image_id\n",
        "        img_uri = '/content/img_align_celeba/' + img_id\n",
        "        img = Image.open(img_uri)\n",
        "\n",
        "        label_list = []\n",
        "        for column in self.df_index.columns:\n",
        "            label_list.append(self.df_index.iloc[idx][column])\n",
        "        label = torch.tensor(label_list[1:], dtype = torch.float32)\n",
        "        img = self.transforms(img)\n",
        "        return img, label\n",
        "\n",
        "    def __len__(self):\n",
        "        return self.df_index.shape[0]"
      ],
      "metadata": {
        "id": "3QQNIjJZuu1q"
      },
      "execution_count": 24,
      "outputs": []
    },
    {
      "cell_type": "code",
      "source": [
        "# Define transforms\n",
        "# Here only a simple tensor conversion and batch normalization is performed\n",
        "transform = transforms.Compose([transforms.ToTensor(),\n",
        "                               transforms.Normalize(mean=[0.5,],std=[0.5,], )])\n",
        "\n",
        "# here root specifies where to store the data\n",
        "data_custom = CelebFaceDataset(df_celeb, transform)\n",
        "\n",
        "# Train data loader\n",
        "data_loader_train = torch.utils.data.DataLoader(data_custom,\n",
        "                                                batch_size = 4,\n",
        "                                                shuffle = True)"
      ],
      "metadata": {
        "id": "4hIs8U5wxFCw"
      },
      "execution_count": 25,
      "outputs": []
    },
    {
      "cell_type": "code",
      "source": [
        "for images, label in data_loader_train:\n",
        "    print(images.shape)\n",
        "    break"
      ],
      "metadata": {
        "colab": {
          "base_uri": "https://localhost:8080/"
        },
        "id": "fPc1iADs0rGa",
        "outputId": "a78476e8-aa5d-4255-df69-c7a21392e5fe"
      },
      "execution_count": 26,
      "outputs": [
        {
          "output_type": "stream",
          "name": "stdout",
          "text": [
            "torch.Size([4, 3, 218, 178])\n"
          ]
        }
      ]
    }
  ]
}