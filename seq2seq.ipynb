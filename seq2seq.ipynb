{
  "nbformat": 4,
  "nbformat_minor": 0,
  "metadata": {
    "colab": {
      "name": "seq2seq.ipynb",
      "provenance": [],
      "authorship_tag": "ABX9TyMwjxY307k1ldjfDx2q1EW8",
      "include_colab_link": true
    },
    "kernelspec": {
      "name": "python3",
      "display_name": "Python 3"
    },
    "language_info": {
      "name": "python"
    }
  },
  "cells": [
    {
      "cell_type": "markdown",
      "metadata": {
        "id": "view-in-github",
        "colab_type": "text"
      },
      "source": [
        "<a href=\"https://colab.research.google.com/github/HaozheTian/ColabProjects/blob/main/seq2seq.ipynb\" target=\"_parent\"><img src=\"https://colab.research.google.com/assets/colab-badge.svg\" alt=\"Open In Colab\"/></a>"
      ]
    },
    {
      "cell_type": "code",
      "source": [
        "import unicodedata,re"
      ],
      "metadata": {
        "id": "5k4mndf0yQaE"
      },
      "execution_count": 13,
      "outputs": []
    },
    {
      "cell_type": "markdown",
      "source": [
        "# 1. Dataset"
      ],
      "metadata": {
        "id": "yOmZfvc78dH9"
      }
    },
    {
      "cell_type": "markdown",
      "source": [
        "## Read from Storage"
      ],
      "metadata": {
        "id": "-zSk7ZSIv4ax"
      }
    },
    {
      "cell_type": "code",
      "source": [
        "from google.colab import drive\n",
        "drive.mount('/content/gdrive')\n",
        "!ls \"/content/gdrive/MyDrive\""
      ],
      "metadata": {
        "colab": {
          "base_uri": "https://localhost:8080/"
        },
        "id": "RMFYQDdC8gsO",
        "outputId": "aea75151-7b98-4c16-c117-02f5dda13fe6"
      },
      "execution_count": 1,
      "outputs": [
        {
          "output_type": "stream",
          "name": "stdout",
          "text": [
            "Mounted at /content/gdrive\n",
            " AdditiveAttention.ipynb   'Colab Notebooks'   TranslateData\n",
            " AttentionMechanism.ipynb   LeavesData\t       translate_dataset.zip\n",
            " ClassifyLeaves.ipynb\t    seq2seq.ipynb\n",
            " classify-leaves.zip\t    torchmodels\n"
          ]
        }
      ]
    },
    {
      "cell_type": "code",
      "source": [
        "!unzip \"/content/gdrive/MyDrive/translate_dataset.zip\" -d \"/content/gdrive/MyDrive/TranslateData\";"
      ],
      "metadata": {
        "colab": {
          "base_uri": "https://localhost:8080/"
        },
        "id": "3h21ohjO8lKb",
        "outputId": "91d15a18-a429-483e-eae6-7f98cfbdc6fa"
      },
      "execution_count": null,
      "outputs": [
        {
          "output_type": "stream",
          "name": "stdout",
          "text": [
            "Archive:  /content/gdrive/MyDrive/translate_dataset.zip\n",
            "   creating: /content/gdrive/MyDrive/TranslateData/data/\n",
            "  inflating: /content/gdrive/MyDrive/TranslateData/data/eng-fra.txt  \n",
            "   creating: /content/gdrive/MyDrive/TranslateData/data/names/\n",
            "  inflating: /content/gdrive/MyDrive/TranslateData/data/names/Arabic.txt  \n",
            "  inflating: /content/gdrive/MyDrive/TranslateData/data/names/Chinese.txt  \n",
            "  inflating: /content/gdrive/MyDrive/TranslateData/data/names/Czech.txt  \n",
            "  inflating: /content/gdrive/MyDrive/TranslateData/data/names/Dutch.txt  \n",
            "  inflating: /content/gdrive/MyDrive/TranslateData/data/names/English.txt  \n",
            "  inflating: /content/gdrive/MyDrive/TranslateData/data/names/French.txt  \n",
            "  inflating: /content/gdrive/MyDrive/TranslateData/data/names/German.txt  \n",
            "  inflating: /content/gdrive/MyDrive/TranslateData/data/names/Greek.txt  \n",
            "  inflating: /content/gdrive/MyDrive/TranslateData/data/names/Irish.txt  \n",
            "  inflating: /content/gdrive/MyDrive/TranslateData/data/names/Italian.txt  \n",
            "  inflating: /content/gdrive/MyDrive/TranslateData/data/names/Japanese.txt  \n",
            "  inflating: /content/gdrive/MyDrive/TranslateData/data/names/Korean.txt  \n",
            "  inflating: /content/gdrive/MyDrive/TranslateData/data/names/Polish.txt  \n",
            "  inflating: /content/gdrive/MyDrive/TranslateData/data/names/Portuguese.txt  \n",
            "  inflating: /content/gdrive/MyDrive/TranslateData/data/names/Russian.txt  \n",
            "  inflating: /content/gdrive/MyDrive/TranslateData/data/names/Scottish.txt  \n",
            "  inflating: /content/gdrive/MyDrive/TranslateData/data/names/Spanish.txt  \n",
            "  inflating: /content/gdrive/MyDrive/TranslateData/data/names/Vietnamese.txt  \n"
          ]
        }
      ]
    },
    {
      "cell_type": "code",
      "source": [
        "lines = open('/content/gdrive/MyDrive/TranslateData/data/eng-fra.txt', encoding='utf-8').read().strip().split('\\n')\n",
        "print(lines[:5])\n",
        "for i in range(5): print(lines[i])"
      ],
      "metadata": {
        "colab": {
          "base_uri": "https://localhost:8080/"
        },
        "id": "VDyqBUNL9Od7",
        "outputId": "527bd49b-7f54-4b34-f10d-e3f3e99134de"
      },
      "execution_count": null,
      "outputs": [
        {
          "output_type": "stream",
          "name": "stdout",
          "text": [
            "['Go.\\tVa !', 'Run!\\tCours\\u202f!', 'Run!\\tCourez\\u202f!', 'Wow!\\tÇa alors\\u202f!', 'Fire!\\tAu feu !']\n",
            "Go.\tVa !\n",
            "Run!\tCours !\n",
            "Run!\tCourez !\n",
            "Wow!\tÇa alors !\n",
            "Fire!\tAu feu !\n"
          ]
        }
      ]
    },
    {
      "cell_type": "markdown",
      "source": [
        "## Define Language Class"
      ],
      "metadata": {
        "id": "rWrELFAsvwSA"
      }
    },
    {
      "cell_type": "code",
      "source": [
        "SOS_token = 0\n",
        "EOS_token = 1\n",
        "\n",
        "\n",
        "class Lang:\n",
        "    def __init__(self, name):\n",
        "        self.name = name              #Name of the language\n",
        "        self.word2index = {}            #Keys are Strings, values are Ints\n",
        "        self.word2count = {}            #Count occurance of each word\n",
        "        self.index2word = {0: \"SOS\", 1: \"EOS\"}  #Keys are Ints, values are Strings\n",
        "        self.n_words = 2  # Count SOS and EOS\n",
        "\n",
        "    def addSentence(self, sentence):\n",
        "        for word in sentence.split(' '):\n",
        "            self.addWord(word)\n",
        "\n",
        "    def addWord(self, word):\n",
        "        if word not in self.word2index:\n",
        "            self.word2index[word] = self.n_words\n",
        "            self.word2count[word] = 1\n",
        "            self.index2word[self.n_words] = word\n",
        "            self.n_words += 1\n",
        "        else:\n",
        "            self.word2count[word] += 1"
      ],
      "metadata": {
        "id": "l6a19c-W-YYW"
      },
      "execution_count": 17,
      "outputs": []
    },
    {
      "cell_type": "code",
      "source": [
        "my_eng = Lang(\"my_eng\")\n",
        "my_eng.addSentence(\"How nice is that\")\n",
        "print(my_eng.word2index[\"nice\"])\n",
        "print(my_eng.index2word[3])"
      ],
      "metadata": {
        "colab": {
          "base_uri": "https://localhost:8080/"
        },
        "id": "d_UvEf2RAqWp",
        "outputId": "04a70d16-e948-40d6-84c1-4ce89b999a41"
      },
      "execution_count": 18,
      "outputs": [
        {
          "output_type": "stream",
          "name": "stdout",
          "text": [
            "3\n",
            "nice\n"
          ]
        }
      ]
    },
    {
      "cell_type": "markdown",
      "source": [
        "## Converting Unicode"
      ],
      "metadata": {
        "id": "RaJMTwN8v1dK"
      }
    },
    {
      "cell_type": "code",
      "source": [
        "def unicodeToAscii(s):\n",
        "    return ''.join(\n",
        "        c for c in unicodedata.normalize('NFD', s)\n",
        "        if unicodedata.category(c) != 'Mn'\n",
        "    )\n",
        "\n",
        "def normalizeString(s):\n",
        "    s = unicodeToAscii(s.lower().strip())\n",
        "    s = re.sub(r\"([.!?])\", r\" \\1\", s)\n",
        "    s = re.sub(r\"[^a-zA-Z.!?]+\", r\" \", s)\n",
        "    return s"
      ],
      "metadata": {
        "id": "l6dmXHo3BFv_"
      },
      "execution_count": 19,
      "outputs": []
    },
    {
      "cell_type": "markdown",
      "source": [
        "## Prepare Data"
      ],
      "metadata": {
        "id": "ehvivTXIwjiJ"
      }
    },
    {
      "cell_type": "code",
      "source": [
        "fileName = \"eng-fra.txt\"\n",
        "print(\"Reading File=>\"+fileName)\n",
        "lines = open('/content/gdrive/MyDrive/TranslateData/data/'+fileName, encoding='utf-8').read().strip().split('\\n')\n",
        "pairs = [l.split('\\t') for l in lines]\n",
        "print(pairs[0:3])\n",
        "for pair in pairs:\n",
        "  pair = [normalizeString(pair[0]),normalizeString(pair[1])]\n",
        "print(pairs[0:3])"
      ],
      "metadata": {
        "colab": {
          "base_uri": "https://localhost:8080/"
        },
        "id": "nRzm0y1UwTE1",
        "outputId": "da99678e-8bc1-48e0-ff76-a04b9345f586"
      },
      "execution_count": 20,
      "outputs": [
        {
          "output_type": "stream",
          "name": "stdout",
          "text": [
            "Reading File=>eng-fra.txt\n",
            "[['Go.', 'Va !'], ['Run!', 'Cours\\u202f!'], ['Run!', 'Courez\\u202f!']]\n",
            "[['Go.', 'Va !'], ['Run!', 'Cours\\u202f!'], ['Run!', 'Courez\\u202f!']]\n"
          ]
        }
      ]
    },
    {
      "cell_type": "code",
      "source": [
        "input_lang = Lang(\"eng\")\n",
        "output_lang = Lang(\"fra\")\n",
        "for pair in pairs:\n",
        "  input_lang.addSentence(pair[0])\n",
        "  output_lang.addSentence(pair[1])\n",
        "\n",
        "pairs = [pair for pair in pairs if len(pair[0].split(' ')) < 10 and len(pair[1].split(' ')) < 10]"
      ],
      "metadata": {
        "id": "gGfQqfyCwg7z"
      },
      "execution_count": 35,
      "outputs": []
    },
    {
      "cell_type": "code",
      "source": [
        "print(\"For \"+input_lang.name+\":\\n\")\n",
        "print(input_lang.n_words)\n",
        "for i in range(2,5):\n",
        "  print(i,input_lang.index2word[i])\n",
        "\n",
        "import random\n",
        "print(random.choice(pairs))\n",
        "print(input_lang.word2index[\"ball\"])"
      ],
      "metadata": {
        "colab": {
          "base_uri": "https://localhost:8080/"
        },
        "id": "Tu-ce6DDzfpX",
        "outputId": "a5b064e9-0732-4c45-a8c9-9578186bcb0f"
      },
      "execution_count": 36,
      "outputs": [
        {
          "output_type": "stream",
          "name": "stdout",
          "text": [
            "For eng:\n",
            "\n",
            "25167\n",
            "2 Go.\n",
            "3 Run!\n",
            "4 Wow!\n",
            "['It looks like an apple.', 'Ça ressemble à une pomme.']\n",
            "7927\n"
          ]
        }
      ]
    },
    {
      "cell_type": "markdown",
      "source": [
        "# 2. Seq2Seq Model"
      ],
      "metadata": {
        "id": "XD6sCpcv0a-K"
      }
    },
    {
      "cell_type": "code",
      "source": [
        ""
      ],
      "metadata": {
        "id": "0HlGrQlj3VYS"
      },
      "execution_count": null,
      "outputs": []
    }
  ]
}